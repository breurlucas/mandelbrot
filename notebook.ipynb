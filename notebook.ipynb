{
 "cells": [
  {
   "cell_type": "markdown",
   "id": "01c4cc91-e932-4941-a24e-389a6b4d8c48",
   "metadata": {},
   "source": [
    "# Conjunto de Mandelbrot - Processamento paralelo na resolução do fractal\n",
    "\n",
    "Bacharelado em Ciência da Computação - Arquiteturas Paralelas e Distribuídas\\\n",
    "Lucas Breur, 06-2021\n",
    "\n",
    "## Objetivo\n",
    "\n",
    "O fractal de Mandelbrot é um conjunto de pontos no plano complexo definido de forma recursiva. O objetivo deste trabalho é a realização de experimentos para avaliação e comparação do tempo de processamento deste problema através de quatro diferentes implementações, sendo estas:\n",
    "\n",
    "- Sequencial Python\n",
    "- Sequencial C\n",
    "- Paralelo OpenMP\n",
    "- Paralelo CUDA\n",
    "\n",
    "## Metodologia\n",
    "\n",
    "### Definição do conjunto\n",
    "\n",
    "O conjunto é definido de acordo com a seguinte fórmula:\n",
    "\n",
    "\\begin{equation}\n",
    "z_0 = 0\\\\\n",
    "z_{k+1} = z_k^2 + c\n",
    "\\end{equation}\n",
    "\n",
    "onde $z_{k+1}$ é a ${k+1}$-ésima iteração do número complexo $z=a+bi$ e $c$ é um ponto no plano complexo. As\n",
    "iteraçõoes continuam até que a magnitude de $z$ seja maior que 2 ou o número de iterações alcance um limite\n",
    "arbitrário. A magnitude de $z$ é o tamanho do vetor dado por:\n",
    "\n",
    "\\begin{equation}\n",
    "z_{length} = \\sqrt{a^2 + b^2}\n",
    "\\end{equation}"
   ]
  },
  {
   "cell_type": "code",
   "execution_count": null,
   "id": "00300de3-5e13-42be-beba-280dd68c3a44",
   "metadata": {},
   "outputs": [],
   "source": []
  },
  {
   "cell_type": "code",
   "execution_count": null,
   "id": "95809a9b-39b5-4e33-8e93-59c6e62868c7",
   "metadata": {},
   "outputs": [],
   "source": []
  },
  {
   "cell_type": "code",
   "execution_count": null,
   "id": "0b0f86ac-481f-41e6-a813-a1a7829a7752",
   "metadata": {},
   "outputs": [],
   "source": []
  }
 ],
 "metadata": {
  "kernelspec": {
   "display_name": "Python 3",
   "language": "python",
   "name": "python3"
  },
  "language_info": {
   "codemirror_mode": {
    "name": "ipython",
    "version": 3
   },
   "file_extension": ".py",
   "mimetype": "text/x-python",
   "name": "python",
   "nbconvert_exporter": "python",
   "pygments_lexer": "ipython3",
   "version": "3.9.5"
  }
 },
 "nbformat": 4,
 "nbformat_minor": 5
}
